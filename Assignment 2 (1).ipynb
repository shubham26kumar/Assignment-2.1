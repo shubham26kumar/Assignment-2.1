{
 "cells": [
  {
   "cell_type": "markdown",
   "id": "a61c9a09-4558-468b-9497-d18d4a38b104",
   "metadata": {},
   "source": [
    "1.Write a program to accept percentage from the user and display the grade acccording to the following criteria:"
   ]
  },
  {
   "cell_type": "code",
   "execution_count": 14,
   "id": "f19b4244-77d3-47fa-955c-e1d4893d44d5",
   "metadata": {},
   "outputs": [
    {
     "name": "stdin",
     "output_type": "stream",
     "text": [
      "Enter your percentage :  55\n"
     ]
    },
    {
     "name": "stdout",
     "output_type": "stream",
     "text": [
      "your grade is D\n"
     ]
    }
   ],
   "source": [
    "percentage = int(input(\"Enter your percentage : \"))\n",
    "if percentage > 90 :\n",
    "    print(\"your grade is A\")\n",
    "elif percentage > 80 and percentage <= 90 :\n",
    "    print(\"your grade is B\")\n",
    "elif percentage >= 60 and percentage <=80 :\n",
    "    print(\"your grade is C\")\n",
    "else :\n",
    "    print(\"your grade is D\")\n"
   ]
  },
  {
   "cell_type": "markdown",
   "id": "b63cee6e-a046-4d55-9506-0fd4774996cc",
   "metadata": {},
   "source": [
    "2.write a program to accept the cost price of a bike and display the road tax to be paid according to the following criteria :\n"
   ]
  },
  {
   "cell_type": "code",
   "execution_count": 25,
   "id": "e3abf103-fe9e-41d8-bed3-c67d2de10080",
   "metadata": {},
   "outputs": [
    {
     "name": "stdin",
     "output_type": "stream",
     "text": [
      "Enter the cost price of bike : 520\n"
     ]
    },
    {
     "name": "stdout",
     "output_type": "stream",
     "text": [
      "you have to pay 5% road tax\n"
     ]
    }
   ],
   "source": [
    "cp = int(input(\"Enter the cost price of bike :\"))\n",
    "if cp > 100000 :\n",
    "    print(\"you have to pay 15% road tax\")\n",
    "elif cp > 50000 and cp <= 100000 :\n",
    "    print(\"you have to pay 10% road tax\")\n",
    "else :\n",
    "    print(\"you have to pay 5% road tax\")\n",
    "    "
   ]
  },
  {
   "cell_type": "markdown",
   "id": "3a0e0ee2-6da4-491a-98df-a8b42e7b6582",
   "metadata": {},
   "source": [
    "3.program to accept city from user and display monuments of that city."
   ]
  },
  {
   "cell_type": "code",
   "execution_count": 23,
   "id": "66a5e3be-6943-4554-8335-d4e969e7b90e",
   "metadata": {},
   "outputs": [
    {
     "name": "stdin",
     "output_type": "stream",
     "text": [
      "Enter the name of city : Agra\n"
     ]
    },
    {
     "name": "stdout",
     "output_type": "stream",
     "text": [
      "Monument name is : Taj Mahal\n"
     ]
    }
   ],
   "source": [
    "city = input(\"Enter the name of city :\")\n",
    "if city == \"Delhi\" :\n",
    "    print(\"Monument name is : Red Fort\")\n",
    "elif city == \"Agra\" :\n",
    "    print(\"Monument name is : Taj Mahal\")\n",
    "elif city == \"Jaipur\" :\n",
    "    print(\"Monument name is : Jal Mahal\")\n",
    "else :\n",
    "    print(\"pls enter the correct city name\")"
   ]
  },
  {
   "cell_type": "markdown",
   "id": "98421392-ee81-4147-9dc4-f01fa64daa94",
   "metadata": {},
   "source": [
    "4.Program to check how many times a given number  can be divided by 3 before it is less than or equal to 10."
   ]
  },
  {
   "cell_type": "code",
   "execution_count": 58,
   "id": "4bcb28ca-430c-40a6-8d41-a29d1b7597e6",
   "metadata": {},
   "outputs": [
    {
     "name": "stdin",
     "output_type": "stream",
     "text": [
      "Enter a number: 6561\n"
     ]
    },
    {
     "name": "stdout",
     "output_type": "stream",
     "text": [
      "6\n"
     ]
    }
   ],
   "source": [
    "num=int(input(\"Enter a number:\"))\n",
    "count = 0\n",
    "\n",
    "while num >= 10 and num%3 == 0:\n",
    "    count=count + 1\n",
    "    num=num/3\n",
    "print(count)\n"
   ]
  },
  {
   "cell_type": "markdown",
   "id": "b3f1a725-cda4-472e-ad1a-ee430142f155",
   "metadata": {},
   "source": [
    "5.why and when to use while loop in python give a detailed description with example.\n",
    "Ans:-In python while loop is used to execute a block of statements repeatedly until a given condition is satisfied and when the condition becomes false,the line immediately after the loop in the program is executed.\n",
    "Syntax :\n",
    "while expression:\n",
    "     statement(s)\n",
    "for example:\n",
    "count = 0\n",
    "while (count < 3)\n",
    "    count = count + 1\n",
    "    print(\"Hello Shubham!\")"
   ]
  },
  {
   "cell_type": "markdown",
   "id": "a4b13b9c-4990-4ab8-8d1b-cc8052042822",
   "metadata": {},
   "source": [
    "6.use nested while loop to print 3 different pattern."
   ]
  },
  {
   "cell_type": "markdown",
   "id": "611f6fe7-3e5a-42ba-b33d-8dce110f46e0",
   "metadata": {},
   "source": [
    "          first pattern"
   ]
  },
  {
   "cell_type": "code",
   "execution_count": 3,
   "id": "f7c3c51f-c4dc-4ed6-862d-f8fa65cb4315",
   "metadata": {},
   "outputs": [
    {
     "name": "stdin",
     "output_type": "stream",
     "text": [
      "Enter the number of rows : 6\n"
     ]
    },
    {
     "name": "stdout",
     "output_type": "stream",
     "text": [
      "* \n",
      "* * \n",
      "* * * \n",
      "* * * * \n",
      "* * * * * \n",
      "* * * * * * \n"
     ]
    }
   ],
   "source": [
    "n = int(input(\"Enter the number of rows :\"))\n",
    "i = 1\n",
    "while i <= n :\n",
    "    j = 1\n",
    "    while j <= i:\n",
    "        print(\"*\", end = \" \")\n",
    "        j += 1\n",
    "    print()\n",
    "    i += 1"
   ]
  },
  {
   "cell_type": "markdown",
   "id": "6ae22f0b-372f-4460-8bb7-1f47a1993517",
   "metadata": {},
   "source": [
    "           second pattern"
   ]
  },
  {
   "cell_type": "code",
   "execution_count": 2,
   "id": "306937c4-77db-4c78-8ee1-a43a114c4987",
   "metadata": {},
   "outputs": [
    {
     "name": "stdin",
     "output_type": "stream",
     "text": [
      "Enter number of rows :  5\n"
     ]
    },
    {
     "name": "stdout",
     "output_type": "stream",
     "text": [
      "* * * * * \n",
      "* * * * \n",
      "* * * \n",
      "* * \n",
      "* \n"
     ]
    }
   ],
   "source": [
    "n = int(input('Enter number of rows : '))\n",
    " \n",
    "i = 1\n",
    "while i <= n :\n",
    "    j = n\n",
    "    while j >= i:\n",
    "        print(\"*\", end = \" \")\n",
    "        j -= 1\n",
    "    print()\n",
    "    i += 1"
   ]
  },
  {
   "cell_type": "markdown",
   "id": "9951cfbd-e2a9-4dd6-bee8-cfb7be685802",
   "metadata": {},
   "source": [
    "           Third pattern"
   ]
  },
  {
   "cell_type": "code",
   "execution_count": 34,
   "id": "b415fb30-723b-4d8a-a3d5-9c8728292a08",
   "metadata": {},
   "outputs": [
    {
     "name": "stdin",
     "output_type": "stream",
     "text": [
      "Enter number of rows :  5\n"
     ]
    },
    {
     "name": "stdout",
     "output_type": "stream",
     "text": [
      "  1 \n",
      "  2   3 \n",
      "  4   5   6 \n",
      "  7   8   9  10 \n",
      " 11  12  13  14  15 \n"
     ]
    }
   ],
   "source": [
    "n = int(input('Enter number of rows : '))\n",
    " \n",
    "k = 1\n",
    "i = 1\n",
    "while i <= n :\n",
    "    j = 1\n",
    "    while j <= i:\n",
    "        print(\"{:3d}\".format(k), end = \" \")\n",
    "        j += 1\n",
    "        k += 1\n",
    "    print()\n",
    "    i += 1"
   ]
  },
  {
   "cell_type": "markdown",
   "id": "e10f84a6-0217-446b-9b2c-b4fb28ec909f",
   "metadata": {},
   "source": [
    "7. Reverse a while loop to display numbers from 10 to 1."
   ]
  },
  {
   "cell_type": "code",
   "execution_count": 39,
   "id": "f1695ec6-bfd8-41c6-bab2-46ab7fb6b219",
   "metadata": {},
   "outputs": [
    {
     "name": "stdout",
     "output_type": "stream",
     "text": [
      "10\n",
      "9\n",
      "8\n",
      "7\n",
      "6\n",
      "5\n",
      "4\n",
      "3\n",
      "2\n",
      "1\n"
     ]
    }
   ],
   "source": [
    "number = 10\n",
    "while(number>=1) :\n",
    "    print(number)\n",
    "    number = number - 1\n",
    "    if n == 0:\n",
    "        break\n",
    "    \n"
   ]
  },
  {
   "cell_type": "code",
   "execution_count": null,
   "id": "e65d0a29-067d-4bc1-a9bc-84335893bd26",
   "metadata": {},
   "outputs": [],
   "source": []
  }
 ],
 "metadata": {
  "kernelspec": {
   "display_name": "Python 3 (ipykernel)",
   "language": "python",
   "name": "python3"
  },
  "language_info": {
   "codemirror_mode": {
    "name": "ipython",
    "version": 3
   },
   "file_extension": ".py",
   "mimetype": "text/x-python",
   "name": "python",
   "nbconvert_exporter": "python",
   "pygments_lexer": "ipython3",
   "version": "3.10.8"
  }
 },
 "nbformat": 4,
 "nbformat_minor": 5
}
